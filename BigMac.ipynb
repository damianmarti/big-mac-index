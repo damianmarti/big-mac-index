{
 "cells": [
  {
   "cell_type": "code",
   "execution_count": 10,
   "metadata": {},
   "outputs": [],
   "source": [
    "dataframe = sqlContext.read.csv('../../data/big-mac-source-data.csv', header=True)"
   ]
  },
  {
   "cell_type": "code",
   "execution_count": 3,
   "metadata": {},
   "outputs": [
    {
     "data": {
      "text/plain": [
       "1442"
      ]
     },
     "execution_count": 3,
     "metadata": {},
     "output_type": "execute_result"
    }
   ],
   "source": [
    "dataframe.count()"
   ]
  },
  {
   "cell_type": "code",
   "execution_count": 4,
   "metadata": {},
   "outputs": [
    {
     "data": {
      "text/plain": [
       "DataFrame[summary: string, name: string, iso_a3: string, currency_code: string, local_price: string, dollar_ex: string, GDP_dollar: string, date: string]"
      ]
     },
     "execution_count": 4,
     "metadata": {},
     "output_type": "execute_result"
    }
   ],
   "source": [
    "dataframe.describe()"
   ]
  },
  {
   "cell_type": "code",
   "execution_count": 5,
   "metadata": {},
   "outputs": [
    {
     "name": "stdout",
     "output_type": "stream",
     "text": [
      "+--------------+------+-------------+-----------+-----------+----------+----------+\n",
      "|          name|iso_a3|currency_code|local_price|  dollar_ex|GDP_dollar|      date|\n",
      "+--------------+------+-------------+-----------+-----------+----------+----------+\n",
      "|     Argentina|   ARG|          ARS|        2.5|          1|      null|2000-04-01|\n",
      "|     Australia|   AUS|          AUD|       2.59|       1.68|      null|2000-04-01|\n",
      "|        Brazil|   BRA|          BRL|       2.95|       1.79|      null|2000-04-01|\n",
      "|       Britain|   GBR|          GBP|        1.9|0.632911392|      null|2000-04-01|\n",
      "|        Canada|   CAN|          CAD|       2.85|       1.47|      null|2000-04-01|\n",
      "|         Chile|   CHL|          CLP|       1260|        514|      null|2000-04-01|\n",
      "|         China|   CHN|          CNY|        9.9|       8.28|      null|2000-04-01|\n",
      "|Czech Republic|   CZE|          CZK|      54.37|       39.1|      null|2000-04-01|\n",
      "|       Denmark|   DNK|          DKK|      24.75|       8.04|      null|2000-04-01|\n",
      "|     Euro area|   EUZ|          EUR|       2.56|1.075268817|      null|2000-04-01|\n",
      "|     Hong Kong|   HKG|          HKD|       10.2|       7.79|      null|2000-04-01|\n",
      "|       Hungary|   HUN|          HUF|        339|        279|      null|2000-04-01|\n",
      "|     Indonesia|   IDN|          IDR|      14500|       7945|      null|2000-04-01|\n",
      "|        Israel|   ISR|          ILS|       14.5|       4.05|      null|2000-04-01|\n",
      "|         Japan|   JPN|          JPY|        294|        106|      null|2000-04-01|\n",
      "|      Malaysia|   MYS|          MYR|       4.52|        3.8|      null|2000-04-01|\n",
      "|        Mexico|   MEX|          MXN|       20.9|       9.41|      null|2000-04-01|\n",
      "|   New Zealand|   NZL|          NZD|        3.4|       2.01|      null|2000-04-01|\n",
      "|        Poland|   POL|          PLN|        5.5|        4.3|      null|2000-04-01|\n",
      "|        Russia|   RUS|          RUB|       39.5|       28.5|      null|2000-04-01|\n",
      "+--------------+------+-------------+-----------+-----------+----------+----------+\n",
      "only showing top 20 rows\n",
      "\n"
     ]
    }
   ],
   "source": [
    "dataframe.show()"
   ]
  },
  {
   "cell_type": "code",
   "execution_count": 6,
   "metadata": {},
   "outputs": [
    {
     "data": {
      "text/plain": [
       "30"
      ]
     },
     "execution_count": 6,
     "metadata": {},
     "output_type": "execute_result"
    }
   ],
   "source": [
    "dataframe.filter('name = \"Argentina\"').count()"
   ]
  },
  {
   "cell_type": "code",
   "execution_count": 8,
   "metadata": {},
   "outputs": [
    {
     "name": "stdout",
     "output_type": "stream",
     "text": [
      "+---------+------+-------------+-----------+---------+----------+----------+\n",
      "|     name|iso_a3|currency_code|local_price|dollar_ex|GDP_dollar|      date|\n",
      "+---------+------+-------------+-----------+---------+----------+----------+\n",
      "|Argentina|   ARG|          ARS|        2.5|        1|      null|2000-04-01|\n",
      "|Argentina|   ARG|          ARS|        2.5|        1|      null|2001-04-01|\n",
      "|Argentina|   ARG|          ARS|        2.5|     3.13|      null|2002-04-01|\n",
      "|Argentina|   ARG|          ARS|        4.1|     2.88|      null|2003-04-01|\n",
      "|Argentina|   ARG|          ARS|       4.36|     2.95|      null|2004-05-01|\n",
      "|Argentina|   ARG|          ARS|       4.75|    2.897|      null|2005-06-01|\n",
      "|Argentina|   ARG|          ARS|       4.75|   3.0638|      null|2006-01-01|\n",
      "|Argentina|   ARG|          ARS|          7|   3.0565|      null|2006-05-01|\n",
      "|Argentina|   ARG|          ARS|       8.25|  3.08875|      null|2007-01-01|\n",
      "|Argentina|   ARG|          ARS|       8.25|   3.0915|      null|2007-06-01|\n",
      "|Argentina|   ARG|          ARS|         11|   3.0195|      null|2008-06-01|\n",
      "|Argentina|   ARG|          ARS|       11.5|  3.81125|      null|2009-07-01|\n",
      "|Argentina|   ARG|          ARS|          7|   3.7985|      null|2010-01-01|\n",
      "|Argentina|   ARG|          ARS|         14|  3.93375|      null|2010-07-01|\n",
      "|Argentina|   ARG|          ARS|         20|   4.1325|  9138.177|2011-07-01|\n",
      "|Argentina|   ARG|          ARS|         20|   4.3135|  9138.177|2012-01-01|\n",
      "|Argentina|   ARG|          ARS|         19|  4.56625|  9138.177|2012-07-01|\n",
      "|Argentina|   ARG|          ARS|         19|   4.9765| 10959.082|2013-01-01|\n",
      "|Argentina|   ARG|          ARS|         21|   5.4125| 10959.082|2013-07-01|\n",
      "|Argentina|   ARG|          ARS|         21|  6.92125| 10959.082|2014-01-01|\n",
      "+---------+------+-------------+-----------+---------+----------+----------+\n",
      "only showing top 20 rows\n",
      "\n"
     ]
    }
   ],
   "source": [
    "dataframe.filter('name = \"Argentina\"').show()"
   ]
  },
  {
   "cell_type": "code",
   "execution_count": 44,
   "metadata": {},
   "outputs": [],
   "source": [
    "info_ar = dataframe.filter('name = \"Argentina\"').drop('name', 'iso_a3', 'currency_code', 'GDP_dollar').collect()"
   ]
  },
  {
   "cell_type": "code",
   "execution_count": 15,
   "metadata": {},
   "outputs": [],
   "source": [
    "import time\n",
    "import datetime"
   ]
  },
  {
   "cell_type": "code",
   "execution_count": 37,
   "metadata": {},
   "outputs": [],
   "source": [
    "data_ar = dataframe.filter('name = \"Argentina\"').drop('name', 'iso_a3', 'currency_code', 'GDP_dollar').rdd.map(lambda x: (time.mktime(datetime.datetime.strptime(x.date, \"%Y-%m-%d\").timetuple()), x.local_price)).collect()"
   ]
  },
  {
   "cell_type": "code",
   "execution_count": 56,
   "metadata": {},
   "outputs": [],
   "source": [
    "data_ar_usd = dataframe.filter('name = \"Argentina\"').drop('name', 'iso_a3', 'currency_code', 'GDP_dollar').rdd.map(lambda x: (int(time.mktime(datetime.datetime.strptime(x.date, \"%Y-%m-%d\").timetuple())), float(x.local_price)/float(x.dollar_ex))).collect()"
   ]
  },
  {
   "cell_type": "code",
   "execution_count": 57,
   "metadata": {},
   "outputs": [
    {
     "data": {
      "text/plain": [
       "[(954558000, 2.5),\n",
       " (986094000, 2.5),\n",
       " (1017630000, 0.7987220447284346),\n",
       " (1049166000, 1.423611111111111),\n",
       " (1083380400, 1.4779661016949153),\n",
       " (1117594800, 1.6396272005522956),\n",
       " (1136084400, 1.550362295188981),\n",
       " (1146452400, 2.290201210534925),\n",
       " (1167620400, 2.670983407527317),\n",
       " (1180666800, 2.668607472100922),\n",
       " (1212289200, 3.642987249544627),\n",
       " (1246417200, 3.0173827484421123),\n",
       " (1262314800, 1.842832697117283),\n",
       " (1277953200, 3.558945027009851),\n",
       " (1309489200, 4.839685420447671),\n",
       " (1325386800, 4.636606004404776),\n",
       " (1341111600, 4.160963591568573),\n",
       " (1357009200, 3.8179443383904355),\n",
       " (1372647600, 3.8799076212471135),\n",
       " (1388545200, 3.0341340075853354),\n",
       " (1404183600, 2.5707727620504977),\n",
       " (1420081200, 3.2520325203252036),\n",
       " (1435719600, 3.0651340996168583),\n",
       " (1451617200, 2.3897025544472004),\n",
       " (1467342000, 3.3478406427854033),\n",
       " (1483239600, 3.4683903515686585),\n",
       " (1498878000, 4.1255341093266535),\n",
       " (1514775600, 3.9603960396039604),\n",
       " (1530414000, 2.7051397655545535),\n",
       " (1546311600, 2.002402883460152)]"
      ]
     },
     "execution_count": 57,
     "metadata": {},
     "output_type": "execute_result"
    }
   ],
   "source": [
    "data_ar_usd"
   ]
  },
  {
   "cell_type": "code",
   "execution_count": 67,
   "metadata": {},
   "outputs": [
    {
     "data": {
      "text/plain": [
       "[[954558000000.0, 2.5],\n",
       " [986094000000.0, 2.5],\n",
       " [1017630000000.0, 2.5],\n",
       " [1049166000000.0, 4.1],\n",
       " [1083380400000.0, 4.36],\n",
       " [1117594800000.0, 4.75],\n",
       " [1136084400000.0, 4.75],\n",
       " [1146452400000.0, 7.0],\n",
       " [1167620400000.0, 8.25],\n",
       " [1180666800000.0, 8.25],\n",
       " [1212289200000.0, 11.0],\n",
       " [1246417200000.0, 11.5],\n",
       " [1262314800000.0, 7.0],\n",
       " [1277953200000.0, 14.0],\n",
       " [1309489200000.0, 20.0],\n",
       " [1325386800000.0, 20.0],\n",
       " [1341111600000.0, 19.0],\n",
       " [1357009200000.0, 19.0],\n",
       " [1372647600000.0, 21.0],\n",
       " [1388545200000.0, 21.0],\n",
       " [1404183600000.0, 21.0],\n",
       " [1420081200000.0, 28.0],\n",
       " [1435719600000.0, 28.0],\n",
       " [1451617200000.0, 33.0],\n",
       " [1467342000000.0, 50.0],\n",
       " [1483239600000.0, 55.0],\n",
       " [1498878000000.0, 70.0],\n",
       " [1514775600000.0, 75.0],\n",
       " [1530414000000.0, 75.0],\n",
       " [1546311600000.0, 75.0]]"
      ]
     },
     "execution_count": 67,
     "metadata": {},
     "output_type": "execute_result"
    }
   ],
   "source": [
    "data_ar_list = list()\n",
    "for data in data_ar:\n",
    "    data_list = list(data)\n",
    "    item = list()\n",
    "    item.append(data_list[0]*1000)\n",
    "    item.append(float(data_list[1]))\n",
    "    data_ar_list.append(item)\n",
    "data_ar_list"
   ]
  },
  {
   "cell_type": "code",
   "execution_count": 72,
   "metadata": {},
   "outputs": [
    {
     "data": {
      "text/plain": [
       "[[954558000000, 2.5],\n",
       " [986094000000, 2.5],\n",
       " [1017630000000, 0.8],\n",
       " [1049166000000, 1.42],\n",
       " [1083380400000, 1.48],\n",
       " [1117594800000, 1.64],\n",
       " [1136084400000, 1.55],\n",
       " [1146452400000, 2.29],\n",
       " [1167620400000, 2.67],\n",
       " [1180666800000, 2.67],\n",
       " [1212289200000, 3.64],\n",
       " [1246417200000, 3.02],\n",
       " [1262314800000, 1.84],\n",
       " [1277953200000, 3.56],\n",
       " [1309489200000, 4.84],\n",
       " [1325386800000, 4.64],\n",
       " [1341111600000, 4.16],\n",
       " [1357009200000, 3.82],\n",
       " [1372647600000, 3.88],\n",
       " [1388545200000, 3.03],\n",
       " [1404183600000, 2.57],\n",
       " [1420081200000, 3.25],\n",
       " [1435719600000, 3.07],\n",
       " [1451617200000, 2.39],\n",
       " [1467342000000, 3.35],\n",
       " [1483239600000, 3.47],\n",
       " [1498878000000, 4.13],\n",
       " [1514775600000, 3.96],\n",
       " [1530414000000, 2.71],\n",
       " [1546311600000, 2.0]]"
      ]
     },
     "execution_count": 72,
     "metadata": {},
     "output_type": "execute_result"
    }
   ],
   "source": [
    "data_ar_usd_list = list()\n",
    "for data in data_ar_usd:\n",
    "    data_list = list(data)\n",
    "    item = list()\n",
    "    item.append(data_list[0]*1000)\n",
    "    item.append(round(float(data_list[1]),2))\n",
    "    data_ar_usd_list.append(item)\n",
    "data_ar_usd_list"
   ]
  },
  {
   "cell_type": "code",
   "execution_count": 1,
   "metadata": {},
   "outputs": [],
   "source": [
    "from highcharts import Highchart"
   ]
  },
  {
   "cell_type": "code",
   "execution_count": 79,
   "metadata": {},
   "outputs": [
    {
     "data": {
      "text/html": [
       "<iframe style=\"border:0;outline:none;overflow:hidden\" srcdoc=\"&lt;!DOCTYPE html&gt; &lt;html lang=&quot;en&quot;&gt; &lt;head&gt; &lt;meta charset=&quot;utf-8&quot; /&gt; &lt;link href=&quot;https://www.highcharts.com/highslide/highslide.css&quot; rel=&quot;stylesheet&quot; /&gt; &lt;script type=&quot;text/javascript&quot; src=&quot;https://ajax.googleapis.com/ajax/libs/jquery/1.9.1/jquery.min.js&quot;&gt;&lt;/script&gt; &lt;script type=&quot;text/javascript&quot; src=&quot;https://code.highcharts.com/6/highcharts.js&quot;&gt;&lt;/script&gt; &lt;script type=&quot;text/javascript&quot; src=&quot;https://code.highcharts.com/6/highcharts-more.js&quot;&gt;&lt;/script&gt; &lt;script type=&quot;text/javascript&quot; src=&quot;https://code.highcharts.com/6/modules/heatmap.js&quot;&gt;&lt;/script&gt; &lt;script type=&quot;text/javascript&quot; src=&quot;https://code.highcharts.com/6/modules/exporting.js&quot;&gt;&lt;/script&gt; &lt;/head&gt; &lt;body style=&quot;margin:0;padding:0&quot;&gt; &lt;div id=&quot;container&quot; style=&quot;&quot;&gt;Loading....&lt;/div&gt; &lt;script&gt; $(function(){ Highcharts.setOptions({&quot;lang&quot;: {}, &quot;global&quot;: {}}); var option = {&quot;loading&quot;: {}, &quot;subtitle&quot;: {}, &quot;xAxis&quot;: {&quot;type&quot;: &quot;datetime&quot;}, &quot;title&quot;: {&quot;text&quot;: &quot;Precio BigMac en Pesos en Argentina&quot;}, &quot;series&quot;: {}, &quot;labels&quot;: {}, &quot;yAxis&quot;: {&quot;title&quot;: {&quot;text&quot;: &quot;Precio&quot;}}, &quot;chart&quot;: {&quot;renderTo&quot;: &quot;container&quot;}, &quot;tooltip&quot;: {&quot;xDateFormat&quot;: &quot;%m/%Y&quot;}, &quot;plotOptions&quot;: {}, &quot;credits&quot;: {&quot;enabled&quot;: false}, &quot;colors&quot;: {}, &quot;pane&quot;: {}, &quot;exporting&quot;: {}, &quot;drilldown&quot;: {}, &quot;navigation&quot;: {}, &quot;legend&quot;: {&quot;enabled&quot;: false}}; var chart = new Highcharts.Chart(option); var data = [{&quot;name&quot;: &quot;Precio ($)&quot;, &quot;marker&quot;: {&quot;enabled&quot;: false}, &quot;type&quot;: &quot;area&quot;, &quot;data&quot;: [[954558000000.0, 2.5], [986094000000.0, 2.5], [1017630000000.0, 2.5], [1049166000000.0, 4.1], [1083380400000.0, 4.36], [1117594800000.0, 4.75], [1136084400000.0, 4.75], [1146452400000.0, 7.0], [1167620400000.0, 8.25], [1180666800000.0, 8.25], [1212289200000.0, 11.0], [1246417200000.0, 11.5], [1262314800000.0, 7.0], [1277953200000.0, 14.0], [1309489200000.0, 20.0], [1325386800000.0, 20.0], [1341111600000.0, 19.0], [1357009200000.0, 19.0], [1372647600000.0, 21.0], [1388545200000.0, 21.0], [1404183600000.0, 21.0], [1420081200000.0, 28.0], [1435719600000.0, 28.0], [1451617200000.0, 33.0], [1467342000000.0, 50.0], [1483239600000.0, 55.0], [1498878000000.0, 70.0], [1514775600000.0, 75.0], [1530414000000.0, 75.0], [1546311600000.0, 75.0]]}]; var dataLen = data.length; for (var ix = 0; ix &lt; dataLen; ix++) { chart.addSeries(data[ix]); } }); &lt;/script&gt; &lt;/body&gt; &lt;/html&gt;\" height=520 width=820></iframe>"
      ],
      "text/plain": [
       "<highcharts.highcharts.highcharts.Highchart at 0x7f94064b1c90>"
      ]
     },
     "execution_count": 79,
     "metadata": {},
     "output_type": "execute_result"
    }
   ],
   "source": [
    "chart = Highchart()\n",
    "\n",
    "chart.set_options('chart', {})\n",
    "\n",
    "options = {\n",
    "    'title': {\n",
    "        'text': 'Precio BigMac en Pesos en Argentina'\n",
    "    },\n",
    "    'xAxis': {\n",
    "        'type': 'datetime'\n",
    "    },\n",
    "    'yAxis': {\n",
    "        'title': {\n",
    "            'text': 'Precio'\n",
    "        }\n",
    "    },\n",
    "    'legend': {\n",
    "        'enabled': False\n",
    "    },\n",
    "    'tooltip': {\n",
    "        'xDateFormat': '%m/%Y'\n",
    "    }\n",
    "}\n",
    "\n",
    "chart.set_dict_options(options)\n",
    "\n",
    "chart.add_data_set(data_ar_list, 'area', 'Precio ($)', marker={'enabled': False}) \n",
    "\n",
    "chart"
   ]
  },
  {
   "cell_type": "code",
   "execution_count": 77,
   "metadata": {},
   "outputs": [
    {
     "data": {
      "text/html": [
       "<iframe style=\"border:0;outline:none;overflow:hidden\" srcdoc=\"&lt;!DOCTYPE html&gt; &lt;html lang=&quot;en&quot;&gt; &lt;head&gt; &lt;meta charset=&quot;utf-8&quot; /&gt; &lt;link href=&quot;https://www.highcharts.com/highslide/highslide.css&quot; rel=&quot;stylesheet&quot; /&gt; &lt;script type=&quot;text/javascript&quot; src=&quot;https://ajax.googleapis.com/ajax/libs/jquery/1.9.1/jquery.min.js&quot;&gt;&lt;/script&gt; &lt;script type=&quot;text/javascript&quot; src=&quot;https://code.highcharts.com/6/highcharts.js&quot;&gt;&lt;/script&gt; &lt;script type=&quot;text/javascript&quot; src=&quot;https://code.highcharts.com/6/highcharts-more.js&quot;&gt;&lt;/script&gt; &lt;script type=&quot;text/javascript&quot; src=&quot;https://code.highcharts.com/6/modules/heatmap.js&quot;&gt;&lt;/script&gt; &lt;script type=&quot;text/javascript&quot; src=&quot;https://code.highcharts.com/6/modules/exporting.js&quot;&gt;&lt;/script&gt; &lt;/head&gt; &lt;body style=&quot;margin:0;padding:0&quot;&gt; &lt;div id=&quot;container&quot; style=&quot;&quot;&gt;Loading....&lt;/div&gt; &lt;script&gt; $(function(){ Highcharts.setOptions({&quot;lang&quot;: {}, &quot;global&quot;: {}}); var option = {&quot;loading&quot;: {}, &quot;subtitle&quot;: {}, &quot;xAxis&quot;: {&quot;type&quot;: &quot;datetime&quot;}, &quot;title&quot;: {&quot;text&quot;: &quot;Precio BigMac en USD en Argentina&quot;}, &quot;series&quot;: {}, &quot;labels&quot;: {}, &quot;yAxis&quot;: {&quot;title&quot;: {&quot;text&quot;: &quot;Precio (USD)&quot;}}, &quot;chart&quot;: {&quot;renderTo&quot;: &quot;container&quot;}, &quot;tooltip&quot;: {&quot;xDateFormat&quot;: &quot;%m/%Y&quot;}, &quot;plotOptions&quot;: {}, &quot;credits&quot;: {&quot;enabled&quot;: false}, &quot;colors&quot;: {}, &quot;pane&quot;: {}, &quot;exporting&quot;: {}, &quot;drilldown&quot;: {}, &quot;navigation&quot;: {}, &quot;legend&quot;: {&quot;enabled&quot;: false}}; var chart = new Highcharts.Chart(option); var data = [{&quot;name&quot;: &quot;Precio (USD)&quot;, &quot;marker&quot;: {&quot;enabled&quot;: false}, &quot;type&quot;: &quot;area&quot;, &quot;data&quot;: [[954558000000, 2.5], [986094000000, 2.5], [1017630000000, 0.8], [1049166000000, 1.42], [1083380400000, 1.48], [1117594800000, 1.64], [1136084400000, 1.55], [1146452400000, 2.29], [1167620400000, 2.67], [1180666800000, 2.67], [1212289200000, 3.64], [1246417200000, 3.02], [1262314800000, 1.84], [1277953200000, 3.56], [1309489200000, 4.84], [1325386800000, 4.64], [1341111600000, 4.16], [1357009200000, 3.82], [1372647600000, 3.88], [1388545200000, 3.03], [1404183600000, 2.57], [1420081200000, 3.25], [1435719600000, 3.07], [1451617200000, 2.39], [1467342000000, 3.35], [1483239600000, 3.47], [1498878000000, 4.13], [1514775600000, 3.96], [1530414000000, 2.71], [1546311600000, 2.0]]}]; var dataLen = data.length; for (var ix = 0; ix &lt; dataLen; ix++) { chart.addSeries(data[ix]); } }); &lt;/script&gt; &lt;/body&gt; &lt;/html&gt;\" height=520 width=820></iframe>"
      ],
      "text/plain": [
       "<highcharts.highcharts.highcharts.Highchart at 0x7f9406388cd0>"
      ]
     },
     "execution_count": 77,
     "metadata": {},
     "output_type": "execute_result"
    }
   ],
   "source": [
    "chart = Highchart()\n",
    "\n",
    "chart.set_options('chart', {})\n",
    "\n",
    "options = {\n",
    "    'title': {\n",
    "        'text': 'Precio BigMac en USD en Argentina'\n",
    "    },\n",
    "    'xAxis': {\n",
    "        'type': 'datetime'\n",
    "    },\n",
    "    'yAxis': {\n",
    "        'title': {\n",
    "            'text': 'Precio (USD)'\n",
    "        }\n",
    "    },\n",
    "    'legend': {\n",
    "        'enabled': False\n",
    "    },\n",
    "    'tooltip': {\n",
    "        'xDateFormat': '%m/%Y'\n",
    "    }\n",
    "}\n",
    "\n",
    "chart.set_dict_options(options)\n",
    "\n",
    "chart.add_data_set(data_ar_usd_list, 'area', 'Precio (USD)', marker={'enabled': False}) \n",
    "\n",
    "chart"
   ]
  },
  {
   "cell_type": "code",
   "execution_count": 45,
   "metadata": {},
   "outputs": [
    {
     "data": {
      "text/plain": [
       "[Row(local_price=u'2.5', dollar_ex=u'1', date=u'2000-04-01'),\n",
       " Row(local_price=u'2.5', dollar_ex=u'1', date=u'2001-04-01'),\n",
       " Row(local_price=u'2.5', dollar_ex=u'3.13', date=u'2002-04-01'),\n",
       " Row(local_price=u'4.1', dollar_ex=u'2.88', date=u'2003-04-01'),\n",
       " Row(local_price=u'4.36', dollar_ex=u'2.95', date=u'2004-05-01'),\n",
       " Row(local_price=u'4.75', dollar_ex=u'2.897', date=u'2005-06-01'),\n",
       " Row(local_price=u'4.75', dollar_ex=u'3.0638', date=u'2006-01-01'),\n",
       " Row(local_price=u'7', dollar_ex=u'3.0565', date=u'2006-05-01'),\n",
       " Row(local_price=u'8.25', dollar_ex=u'3.08875', date=u'2007-01-01'),\n",
       " Row(local_price=u'8.25', dollar_ex=u'3.0915', date=u'2007-06-01'),\n",
       " Row(local_price=u'11', dollar_ex=u'3.0195', date=u'2008-06-01'),\n",
       " Row(local_price=u'11.5', dollar_ex=u'3.81125', date=u'2009-07-01'),\n",
       " Row(local_price=u'7', dollar_ex=u'3.7985', date=u'2010-01-01'),\n",
       " Row(local_price=u'14', dollar_ex=u'3.93375', date=u'2010-07-01'),\n",
       " Row(local_price=u'20', dollar_ex=u'4.1325', date=u'2011-07-01'),\n",
       " Row(local_price=u'20', dollar_ex=u'4.3135', date=u'2012-01-01'),\n",
       " Row(local_price=u'19', dollar_ex=u'4.56625', date=u'2012-07-01'),\n",
       " Row(local_price=u'19', dollar_ex=u'4.9765', date=u'2013-01-01'),\n",
       " Row(local_price=u'21', dollar_ex=u'5.4125', date=u'2013-07-01'),\n",
       " Row(local_price=u'21', dollar_ex=u'6.92125', date=u'2014-01-01'),\n",
       " Row(local_price=u'21', dollar_ex=u'8.16875', date=u'2014-07-01'),\n",
       " Row(local_price=u'28', dollar_ex=u'8.61', date=u'2015-01-01'),\n",
       " Row(local_price=u'28', dollar_ex=u'9.135', date=u'2015-07-01'),\n",
       " Row(local_price=u'33', dollar_ex=u'13.80925', date=u'2016-01-01'),\n",
       " Row(local_price=u'50', dollar_ex=u'14.935', date=u'2016-07-01'),\n",
       " Row(local_price=u'55', dollar_ex=u'15.8575', date=u'2017-01-01'),\n",
       " Row(local_price=u'70', dollar_ex=u'16.9675', date=u'2017-07-01'),\n",
       " Row(local_price=u'75', dollar_ex=u'18.9375', date=u'2018-01-01'),\n",
       " Row(local_price=u'75', dollar_ex=u'27.725', date=u'2018-07-01'),\n",
       " Row(local_price=u'75', dollar_ex=u'37.455', date=u'2019-01-01')]"
      ]
     },
     "execution_count": 45,
     "metadata": {},
     "output_type": "execute_result"
    }
   ],
   "source": [
    "info_ar"
   ]
  },
  {
   "cell_type": "code",
   "execution_count": 47,
   "metadata": {},
   "outputs": [
    {
     "name": "stdout",
     "output_type": "stream",
     "text": [
      "2000-04-01: $2.5\n",
      "2001-04-01: $2.5\n",
      "2002-04-01: $2.5\n",
      "2003-04-01: $4.1\n",
      "2004-05-01: $4.36\n",
      "2005-06-01: $4.75\n",
      "2006-01-01: $4.75\n",
      "2006-05-01: $7\n",
      "2007-01-01: $8.25\n",
      "2007-06-01: $8.25\n",
      "2008-06-01: $11\n",
      "2009-07-01: $11.5\n",
      "2010-01-01: $7\n",
      "2010-07-01: $14\n",
      "2011-07-01: $20\n",
      "2012-01-01: $20\n",
      "2012-07-01: $19\n",
      "2013-01-01: $19\n",
      "2013-07-01: $21\n",
      "2014-01-01: $21\n",
      "2014-07-01: $21\n",
      "2015-01-01: $28\n",
      "2015-07-01: $28\n",
      "2016-01-01: $33\n",
      "2016-07-01: $50\n",
      "2017-01-01: $55\n",
      "2017-07-01: $70\n",
      "2018-01-01: $75\n",
      "2018-07-01: $75\n",
      "2019-01-01: $75\n"
     ]
    }
   ],
   "source": [
    "for info in info_ar:\n",
    "    print(info.date+\": $\"+info.local_price)"
   ]
  },
  {
   "cell_type": "code",
   "execution_count": 86,
   "metadata": {},
   "outputs": [],
   "source": [
    "countries_info = dataframe.filter('date = \"2019-01-01\"').rdd.map(lambda x: (x.name, round(float(x.local_price)/float(x.dollar_ex),2))).takeOrdered(100, lambda x: x[1])"
   ]
  },
  {
   "cell_type": "code",
   "execution_count": 87,
   "metadata": {},
   "outputs": [
    {
     "data": {
      "text/plain": [
       "[u'Russia',\n",
       " u'Ukraine',\n",
       " u'Argentina',\n",
       " u'Turkey',\n",
       " u'Malaysia',\n",
       " u'Egypt',\n",
       " u'Taiwan',\n",
       " u'South Africa',\n",
       " u'Romania',\n",
       " u'Moldova',\n",
       " u'Azerbaijan',\n",
       " u'Indonesia',\n",
       " u'Mexico',\n",
       " u'Hong Kong',\n",
       " u'India',\n",
       " u'Slovenia',\n",
       " u'Philippines',\n",
       " u'Oman',\n",
       " u'Jordan',\n",
       " u'Poland',\n",
       " u'Vietnam',\n",
       " u'Hungary',\n",
       " u'China',\n",
       " u'Peru',\n",
       " u'Bahrain',\n",
       " u'Sri Lanka',\n",
       " u'Nicaragua',\n",
       " u'Saudi Arabia',\n",
       " u'Latvia',\n",
       " u'Guatemala',\n",
       " u'Croatia',\n",
       " u'Lithuania',\n",
       " u'Qatar',\n",
       " u'Pakistan',\n",
       " u'Kuwait',\n",
       " u'Honduras',\n",
       " u'Japan',\n",
       " u'Estonia',\n",
       " u'Slovakia',\n",
       " u'Portugal',\n",
       " u'Thailand',\n",
       " u'Colombia',\n",
       " u'Costa Rica',\n",
       " u'United Arab Emirates',\n",
       " u'Czech Republic',\n",
       " u'Greece',\n",
       " u'Chile',\n",
       " u'South Korea',\n",
       " u'Britain',\n",
       " u'New Zealand',\n",
       " u'Singapore',\n",
       " u'Austria',\n",
       " u'Lebanon',\n",
       " u'Uruguay',\n",
       " u'Australia',\n",
       " u'Spain',\n",
       " u'Brazil',\n",
       " u'Israel',\n",
       " u'Netherlands',\n",
       " u'Denmark',\n",
       " u'Euro area',\n",
       " u'Ireland',\n",
       " u'Germany',\n",
       " u'Belgium',\n",
       " u'France',\n",
       " u'Italy',\n",
       " u'Canada',\n",
       " u'Finland',\n",
       " u'United States',\n",
       " u'Sweden',\n",
       " u'Norway',\n",
       " u'Switzerland']"
      ]
     },
     "execution_count": 87,
     "metadata": {},
     "output_type": "execute_result"
    }
   ],
   "source": [
    "countries = list()\n",
    "for info in countries_info:\n",
    "    countries.append(info[0])\n",
    "countries"
   ]
  },
  {
   "cell_type": "code",
   "execution_count": 88,
   "metadata": {},
   "outputs": [
    {
     "data": {
      "text/plain": [
       "[1.65,\n",
       " 1.94,\n",
       " 2.0,\n",
       " 2.0,\n",
       " 2.2,\n",
       " 2.23,\n",
       " 2.24,\n",
       " 2.24,\n",
       " 2.29,\n",
       " 2.32,\n",
       " 2.33,\n",
       " 2.34,\n",
       " 2.54,\n",
       " 2.55,\n",
       " 2.55,\n",
       " 2.64,\n",
       " 2.67,\n",
       " 2.73,\n",
       " 2.75,\n",
       " 2.8,\n",
       " 2.8,\n",
       " 3.03,\n",
       " 3.05,\n",
       " 3.14,\n",
       " 3.18,\n",
       " 3.18,\n",
       " 3.18,\n",
       " 3.2,\n",
       " 3.21,\n",
       " 3.23,\n",
       " 3.24,\n",
       " 3.27,\n",
       " 3.3,\n",
       " 3.31,\n",
       " 3.46,\n",
       " 3.49,\n",
       " 3.6,\n",
       " 3.67,\n",
       " 3.67,\n",
       " 3.72,\n",
       " 3.72,\n",
       " 3.73,\n",
       " 3.77,\n",
       " 3.81,\n",
       " 3.81,\n",
       " 3.84,\n",
       " 3.89,\n",
       " 4.02,\n",
       " 4.07,\n",
       " 4.19,\n",
       " 4.28,\n",
       " 4.31,\n",
       " 4.31,\n",
       " 4.31,\n",
       " 4.35,\n",
       " 4.53,\n",
       " 4.55,\n",
       " 4.58,\n",
       " 4.58,\n",
       " 4.6,\n",
       " 4.64,\n",
       " 4.66,\n",
       " 4.72,\n",
       " 4.81,\n",
       " 4.81,\n",
       " 4.81,\n",
       " 5.08,\n",
       " 5.3,\n",
       " 5.58,\n",
       " 5.84,\n",
       " 5.86,\n",
       " 6.62]"
      ]
     },
     "execution_count": 88,
     "metadata": {},
     "output_type": "execute_result"
    }
   ],
   "source": [
    "countries_price = list()\n",
    "for info in countries_info:\n",
    "    countries_price.append(info[1])\n",
    "countries_price"
   ]
  },
  {
   "cell_type": "code",
   "execution_count": 107,
   "metadata": {},
   "outputs": [
    {
     "data": {
      "text/html": [
       "<iframe style=\"border:0;outline:none;overflow:hidden\" srcdoc=\"&lt;!DOCTYPE html&gt; &lt;html lang=&quot;en&quot;&gt; &lt;head&gt; &lt;meta charset=&quot;utf-8&quot; /&gt; &lt;link href=&quot;https://www.highcharts.com/highslide/highslide.css&quot; rel=&quot;stylesheet&quot; /&gt; &lt;script type=&quot;text/javascript&quot; src=&quot;https://ajax.googleapis.com/ajax/libs/jquery/1.9.1/jquery.min.js&quot;&gt;&lt;/script&gt; &lt;script type=&quot;text/javascript&quot; src=&quot;https://code.highcharts.com/6/highcharts.js&quot;&gt;&lt;/script&gt; &lt;script type=&quot;text/javascript&quot; src=&quot;https://code.highcharts.com/6/highcharts-more.js&quot;&gt;&lt;/script&gt; &lt;script type=&quot;text/javascript&quot; src=&quot;https://code.highcharts.com/6/modules/heatmap.js&quot;&gt;&lt;/script&gt; &lt;script type=&quot;text/javascript&quot; src=&quot;https://code.highcharts.com/6/modules/exporting.js&quot;&gt;&lt;/script&gt; &lt;/head&gt; &lt;body style=&quot;margin:0;padding:0&quot;&gt; &lt;div id=&quot;container&quot; style=&quot;height:1500px;&quot;&gt;Loading....&lt;/div&gt; &lt;script&gt; $(function(){ Highcharts.setOptions({&quot;lang&quot;: {}, &quot;global&quot;: {}}); var option = {&quot;loading&quot;: {}, &quot;subtitle&quot;: {}, &quot;xAxis&quot;: {&quot;categories&quot;: [&quot;Russia&quot;, &quot;Ukraine&quot;, &quot;Argentina&quot;, &quot;Turkey&quot;, &quot;Malaysia&quot;, &quot;Egypt&quot;, &quot;Taiwan&quot;, &quot;South Africa&quot;, &quot;Romania&quot;, &quot;Moldova&quot;, &quot;Azerbaijan&quot;, &quot;Indonesia&quot;, &quot;Mexico&quot;, &quot;Hong Kong&quot;, &quot;India&quot;, &quot;Slovenia&quot;, &quot;Philippines&quot;, &quot;Oman&quot;, &quot;Jordan&quot;, &quot;Poland&quot;, &quot;Vietnam&quot;, &quot;Hungary&quot;, &quot;China&quot;, &quot;Peru&quot;, &quot;Bahrain&quot;, &quot;Sri Lanka&quot;, &quot;Nicaragua&quot;, &quot;Saudi Arabia&quot;, &quot;Latvia&quot;, &quot;Guatemala&quot;, &quot;Croatia&quot;, &quot;Lithuania&quot;, &quot;Qatar&quot;, &quot;Pakistan&quot;, &quot;Kuwait&quot;, &quot;Honduras&quot;, &quot;Japan&quot;, &quot;Estonia&quot;, &quot;Slovakia&quot;, &quot;Portugal&quot;, &quot;Thailand&quot;, &quot;Colombia&quot;, &quot;Costa Rica&quot;, &quot;United Arab Emirates&quot;, &quot;Czech Republic&quot;, &quot;Greece&quot;, &quot;Chile&quot;, &quot;South Korea&quot;, &quot;Britain&quot;, &quot;New Zealand&quot;, &quot;Singapore&quot;, &quot;Austria&quot;, &quot;Lebanon&quot;, &quot;Uruguay&quot;, &quot;Australia&quot;, &quot;Spain&quot;, &quot;Brazil&quot;, &quot;Israel&quot;, &quot;Netherlands&quot;, &quot;Denmark&quot;, &quot;Euro area&quot;, &quot;Ireland&quot;, &quot;Germany&quot;, &quot;Belgium&quot;, &quot;France&quot;, &quot;Italy&quot;, &quot;Canada&quot;, &quot;Finland&quot;, &quot;United States&quot;, &quot;Sweden&quot;, &quot;Norway&quot;, &quot;Switzerland&quot;]}, &quot;title&quot;: {&quot;text&quot;: &quot;Precio BigMac en USD Enero 2019&quot;}, &quot;series&quot;: {}, &quot;labels&quot;: {}, &quot;yAxis&quot;: {&quot;title&quot;: {&quot;text&quot;: &quot;Precio (USD)&quot;}, &quot;min&quot;: 0}, &quot;chart&quot;: {&quot;height&quot;: 1500, &quot;renderTo&quot;: &quot;container&quot;, &quot;inverted&quot;: true}, &quot;tooltip&quot;: {&quot;xDateFormat&quot;: &quot;%m/%Y&quot;}, &quot;plotOptions&quot;: {&quot;series&quot;: {}}, &quot;credits&quot;: {&quot;enabled&quot;: false}, &quot;colors&quot;: {}, &quot;pane&quot;: {}, &quot;exporting&quot;: {}, &quot;drilldown&quot;: {}, &quot;navigation&quot;: {}, &quot;legend&quot;: {&quot;enabled&quot;: false}}; var chart = new Highcharts.Chart(option); var data = [{&quot;marker&quot;: {&quot;enabled&quot;: false}, &quot;data&quot;: [1.65, 1.94, 2.0, 2.0, 2.2, 2.23, 2.24, 2.24, 2.29, 2.32, 2.33, 2.34, 2.54, 2.55, 2.55, 2.64, 2.67, 2.73, 2.75, 2.8, 2.8, 3.03, 3.05, 3.14, 3.18, 3.18, 3.18, 3.2, 3.21, 3.23, 3.24, 3.27, 3.3, 3.31, 3.46, 3.49, 3.6, 3.67, 3.67, 3.72, 3.72, 3.73, 3.77, 3.81, 3.81, 3.84, 3.89, 4.02, 4.07, 4.19, 4.28, 4.31, 4.31, 4.31, 4.35, 4.53, 4.55, 4.58, 4.58, 4.6, 4.64, 4.66, 4.72, 4.81, 4.81, 4.81, 5.08, 5.3, 5.58, 5.84, 5.86, 6.62], &quot;type&quot;: &quot;bar&quot;, &quot;name&quot;: &quot;Precio (USD)&quot;}]; var dataLen = data.length; for (var ix = 0; ix &lt; dataLen; ix++) { chart.addSeries(data[ix]); } }); &lt;/script&gt; &lt;/body&gt; &lt;/html&gt;\" height=1500 width=820></iframe>"
      ],
      "text/plain": [
       "<highcharts.highcharts.highcharts.Highchart at 0x7f9406349850>"
      ]
     },
     "execution_count": 107,
     "metadata": {},
     "output_type": "execute_result"
    }
   ],
   "source": [
    "chart = Highchart()\n",
    "\n",
    "chart.set_options('chart', {'inverted': True, 'height': 1500})\n",
    "\n",
    "options = {\n",
    "    'title': {\n",
    "        'text': 'Precio BigMac en USD Enero 2019'\n",
    "    },\n",
    "    'xAxis': {\n",
    "        'categories': countries\n",
    "    },\n",
    "    'plotOptions': {\n",
    "        'series': {\n",
    "            'pointWidth': 5\n",
    "        } \n",
    "    },\n",
    "    'yAxis': {\n",
    "        'min': 0,\n",
    "        'title': {\n",
    "            'text': 'Precio (USD)'\n",
    "        }\n",
    "    },\n",
    "    'legend': {\n",
    "        'enabled': False\n",
    "    },\n",
    "    'tooltip': {\n",
    "        'xDateFormat': '%m/%Y'\n",
    "    }\n",
    "}\n",
    "\n",
    "chart.set_dict_options(options)\n",
    "\n",
    "chart.add_data_set(countries_price, 'bar', 'Precio (USD)', marker={'enabled': False}) \n",
    "\n",
    "chart"
   ]
  },
  {
   "cell_type": "code",
   "execution_count": 109,
   "metadata": {},
   "outputs": [
    {
     "data": {
      "text/plain": [
       "[-3.93,\n",
       " -3.64,\n",
       " -3.58,\n",
       " -3.58,\n",
       " -3.38,\n",
       " -3.35,\n",
       " -3.34,\n",
       " -3.34,\n",
       " -3.29,\n",
       " -3.26,\n",
       " -3.25,\n",
       " -3.24,\n",
       " -3.04,\n",
       " -3.03,\n",
       " -3.03,\n",
       " -2.94,\n",
       " -2.91,\n",
       " -2.85,\n",
       " -2.83,\n",
       " -2.78,\n",
       " -2.78,\n",
       " -2.55,\n",
       " -2.53,\n",
       " -2.44,\n",
       " -2.4,\n",
       " -2.4,\n",
       " -2.4,\n",
       " -2.38,\n",
       " -2.37,\n",
       " -2.35,\n",
       " -2.34,\n",
       " -2.31,\n",
       " -2.28,\n",
       " -2.27,\n",
       " -2.12,\n",
       " -2.09,\n",
       " -1.98,\n",
       " -1.91,\n",
       " -1.91,\n",
       " -1.86,\n",
       " -1.86,\n",
       " -1.85,\n",
       " -1.81,\n",
       " -1.77,\n",
       " -1.77,\n",
       " -1.74,\n",
       " -1.69,\n",
       " -1.56,\n",
       " -1.51,\n",
       " -1.39,\n",
       " -1.3,\n",
       " -1.27,\n",
       " -1.27,\n",
       " -1.27,\n",
       " -1.23,\n",
       " -1.05,\n",
       " -1.03,\n",
       " -1.0,\n",
       " -1.0,\n",
       " -0.98,\n",
       " -0.94,\n",
       " -0.92,\n",
       " -0.86,\n",
       " -0.77,\n",
       " -0.77,\n",
       " -0.77,\n",
       " -0.5,\n",
       " -0.28,\n",
       " 0.0,\n",
       " 0.26,\n",
       " 0.28,\n",
       " 1.04]"
      ]
     },
     "execution_count": 109,
     "metadata": {},
     "output_type": "execute_result"
    }
   ],
   "source": [
    "countries_price_usa = list()\n",
    "for info in countries_info:\n",
    "    countries_price_usa.append(round(info[1]-5.58,2))\n",
    "countries_price_usa"
   ]
  },
  {
   "cell_type": "code",
   "execution_count": 112,
   "metadata": {},
   "outputs": [
    {
     "data": {
      "text/html": [
       "<iframe style=\"border:0;outline:none;overflow:hidden\" srcdoc=\"&lt;!DOCTYPE html&gt; &lt;html lang=&quot;en&quot;&gt; &lt;head&gt; &lt;meta charset=&quot;utf-8&quot; /&gt; &lt;link href=&quot;https://www.highcharts.com/highslide/highslide.css&quot; rel=&quot;stylesheet&quot; /&gt; &lt;script type=&quot;text/javascript&quot; src=&quot;https://ajax.googleapis.com/ajax/libs/jquery/1.9.1/jquery.min.js&quot;&gt;&lt;/script&gt; &lt;script type=&quot;text/javascript&quot; src=&quot;https://code.highcharts.com/6/highcharts.js&quot;&gt;&lt;/script&gt; &lt;script type=&quot;text/javascript&quot; src=&quot;https://code.highcharts.com/6/highcharts-more.js&quot;&gt;&lt;/script&gt; &lt;script type=&quot;text/javascript&quot; src=&quot;https://code.highcharts.com/6/modules/heatmap.js&quot;&gt;&lt;/script&gt; &lt;script type=&quot;text/javascript&quot; src=&quot;https://code.highcharts.com/6/modules/exporting.js&quot;&gt;&lt;/script&gt; &lt;/head&gt; &lt;body style=&quot;margin:0;padding:0&quot;&gt; &lt;div id=&quot;container&quot; style=&quot;height:1500px;&quot;&gt;Loading....&lt;/div&gt; &lt;script&gt; $(function(){ Highcharts.setOptions({&quot;lang&quot;: {}, &quot;global&quot;: {}}); var option = {&quot;loading&quot;: {}, &quot;subtitle&quot;: {}, &quot;xAxis&quot;: {&quot;categories&quot;: [&quot;Russia&quot;, &quot;Ukraine&quot;, &quot;Argentina&quot;, &quot;Turkey&quot;, &quot;Malaysia&quot;, &quot;Egypt&quot;, &quot;Taiwan&quot;, &quot;South Africa&quot;, &quot;Romania&quot;, &quot;Moldova&quot;, &quot;Azerbaijan&quot;, &quot;Indonesia&quot;, &quot;Mexico&quot;, &quot;Hong Kong&quot;, &quot;India&quot;, &quot;Slovenia&quot;, &quot;Philippines&quot;, &quot;Oman&quot;, &quot;Jordan&quot;, &quot;Poland&quot;, &quot;Vietnam&quot;, &quot;Hungary&quot;, &quot;China&quot;, &quot;Peru&quot;, &quot;Bahrain&quot;, &quot;Sri Lanka&quot;, &quot;Nicaragua&quot;, &quot;Saudi Arabia&quot;, &quot;Latvia&quot;, &quot;Guatemala&quot;, &quot;Croatia&quot;, &quot;Lithuania&quot;, &quot;Qatar&quot;, &quot;Pakistan&quot;, &quot;Kuwait&quot;, &quot;Honduras&quot;, &quot;Japan&quot;, &quot;Estonia&quot;, &quot;Slovakia&quot;, &quot;Portugal&quot;, &quot;Thailand&quot;, &quot;Colombia&quot;, &quot;Costa Rica&quot;, &quot;United Arab Emirates&quot;, &quot;Czech Republic&quot;, &quot;Greece&quot;, &quot;Chile&quot;, &quot;South Korea&quot;, &quot;Britain&quot;, &quot;New Zealand&quot;, &quot;Singapore&quot;, &quot;Austria&quot;, &quot;Lebanon&quot;, &quot;Uruguay&quot;, &quot;Australia&quot;, &quot;Spain&quot;, &quot;Brazil&quot;, &quot;Israel&quot;, &quot;Netherlands&quot;, &quot;Denmark&quot;, &quot;Euro area&quot;, &quot;Ireland&quot;, &quot;Germany&quot;, &quot;Belgium&quot;, &quot;France&quot;, &quot;Italy&quot;, &quot;Canada&quot;, &quot;Finland&quot;, &quot;United States&quot;, &quot;Sweden&quot;, &quot;Norway&quot;, &quot;Switzerland&quot;]}, &quot;title&quot;: {&quot;text&quot;: &quot;Precio BigMac en USD con USA como referencia (Enero 2019)&quot;}, &quot;series&quot;: {}, &quot;labels&quot;: {}, &quot;yAxis&quot;: {&quot;title&quot;: {&quot;text&quot;: &quot;Precio (USD)&quot;}}, &quot;chart&quot;: {&quot;height&quot;: 1500, &quot;renderTo&quot;: &quot;container&quot;, &quot;inverted&quot;: true}, &quot;tooltip&quot;: {&quot;xDateFormat&quot;: &quot;%m/%Y&quot;}, &quot;plotOptions&quot;: {&quot;series&quot;: {}}, &quot;credits&quot;: {&quot;enabled&quot;: false}, &quot;colors&quot;: {}, &quot;pane&quot;: {}, &quot;exporting&quot;: {}, &quot;drilldown&quot;: {}, &quot;navigation&quot;: {}, &quot;legend&quot;: {&quot;enabled&quot;: false}}; var chart = new Highcharts.Chart(option); var data = [{&quot;marker&quot;: {&quot;enabled&quot;: false}, &quot;data&quot;: [-3.93, -3.64, -3.58, -3.58, -3.38, -3.35, -3.34, -3.34, -3.29, -3.26, -3.25, -3.24, -3.04, -3.03, -3.03, -2.94, -2.91, -2.85, -2.83, -2.78, -2.78, -2.55, -2.53, -2.44, -2.4, -2.4, -2.4, -2.38, -2.37, -2.35, -2.34, -2.31, -2.28, -2.27, -2.12, -2.09, -1.98, -1.91, -1.91, -1.86, -1.86, -1.85, -1.81, -1.77, -1.77, -1.74, -1.69, -1.56, -1.51, -1.39, -1.3, -1.27, -1.27, -1.27, -1.23, -1.05, -1.03, -1.0, -1.0, -0.98, -0.94, -0.92, -0.86, -0.77, -0.77, -0.77, -0.5, -0.28, 0.0, 0.26, 0.28, 1.04], &quot;type&quot;: &quot;bar&quot;, &quot;name&quot;: &quot;Precio (USD)&quot;}]; var dataLen = data.length; for (var ix = 0; ix &lt; dataLen; ix++) { chart.addSeries(data[ix]); } }); &lt;/script&gt; &lt;/body&gt; &lt;/html&gt;\" height=1500 width=820></iframe>"
      ],
      "text/plain": [
       "<highcharts.highcharts.highcharts.Highchart at 0x7f940635b510>"
      ]
     },
     "execution_count": 112,
     "metadata": {},
     "output_type": "execute_result"
    }
   ],
   "source": [
    "chart = Highchart()\n",
    "\n",
    "chart.set_options('chart', {'inverted': True, 'height': 1500})\n",
    "\n",
    "options = {\n",
    "    'title': {\n",
    "        'text': 'Precio BigMac en USD con USA como referencia (Enero 2019)'\n",
    "    },\n",
    "    'xAxis': {\n",
    "        'categories': countries\n",
    "    },\n",
    "    'plotOptions': {\n",
    "        'series': {\n",
    "            'pointWidth': 5\n",
    "        } \n",
    "    },\n",
    "    'yAxis': {\n",
    "        'title': {\n",
    "            'text': 'Precio (USD)'\n",
    "        }\n",
    "    },\n",
    "    'legend': {\n",
    "        'enabled': False\n",
    "    },\n",
    "    'tooltip': {\n",
    "        'xDateFormat': '%m/%Y'\n",
    "    }\n",
    "}\n",
    "\n",
    "chart.set_dict_options(options)\n",
    "\n",
    "chart.add_data_set(countries_price_usa, 'bar', 'Precio (USD)', marker={'enabled': False}) \n",
    "\n",
    "chart"
   ]
  },
  {
   "cell_type": "code",
   "execution_count": 113,
   "metadata": {},
   "outputs": [],
   "source": [
    "data_us = dataframe.filter('name = \"United States\"').drop('name', 'iso_a3', 'currency_code', 'GDP_dollar').rdd.map(lambda x: (time.mktime(datetime.datetime.strptime(x.date, \"%Y-%m-%d\").timetuple()), x.local_price)).collect()"
   ]
  },
  {
   "cell_type": "code",
   "execution_count": 114,
   "metadata": {},
   "outputs": [
    {
     "data": {
      "text/plain": [
       "[[954558000000.0, 2.51],\n",
       " [986094000000.0, 2.54],\n",
       " [1017630000000.0, 2.49],\n",
       " [1049166000000.0, 2.71],\n",
       " [1083380400000.0, 2.9],\n",
       " [1117594800000.0, 3.06],\n",
       " [1136084400000.0, 3.15],\n",
       " [1146452400000.0, 3.1],\n",
       " [1167620400000.0, 3.22],\n",
       " [1180666800000.0, 3.41],\n",
       " [1212289200000.0, 3.57],\n",
       " [1246417200000.0, 3.57],\n",
       " [1262314800000.0, 3.58],\n",
       " [1277953200000.0, 3.733333333],\n",
       " [1309489200000.0, 4.065],\n",
       " [1325386800000.0, 4.19722],\n",
       " [1341111600000.0, 4.3275],\n",
       " [1357009200000.0, 4.367395833],\n",
       " [1372647600000.0, 4.556666667],\n",
       " [1388545200000.0, 4.624166667],\n",
       " [1404183600000.0, 4.795],\n",
       " [1420081200000.0, 4.79],\n",
       " [1435719600000.0, 4.79],\n",
       " [1451617200000.0, 4.93],\n",
       " [1467342000000.0, 5.04],\n",
       " [1483239600000.0, 5.06],\n",
       " [1498878000000.0, 5.3],\n",
       " [1514775600000.0, 5.28],\n",
       " [1530414000000.0, 5.51],\n",
       " [1546311600000.0, 5.58]]"
      ]
     },
     "execution_count": 114,
     "metadata": {},
     "output_type": "execute_result"
    }
   ],
   "source": [
    "data_us_list = list()\n",
    "for data in data_us:\n",
    "    data_list = list(data)\n",
    "    item = list()\n",
    "    item.append(data_list[0]*1000)\n",
    "    item.append(float(data_list[1]))\n",
    "    data_us_list.append(item)\n",
    "data_us_list"
   ]
  },
  {
   "cell_type": "code",
   "execution_count": 115,
   "metadata": {},
   "outputs": [
    {
     "data": {
      "text/html": [
       "<iframe style=\"border:0;outline:none;overflow:hidden\" srcdoc=\"&lt;!DOCTYPE html&gt; &lt;html lang=&quot;en&quot;&gt; &lt;head&gt; &lt;meta charset=&quot;utf-8&quot; /&gt; &lt;link href=&quot;https://www.highcharts.com/highslide/highslide.css&quot; rel=&quot;stylesheet&quot; /&gt; &lt;script type=&quot;text/javascript&quot; src=&quot;https://ajax.googleapis.com/ajax/libs/jquery/1.9.1/jquery.min.js&quot;&gt;&lt;/script&gt; &lt;script type=&quot;text/javascript&quot; src=&quot;https://code.highcharts.com/6/highcharts.js&quot;&gt;&lt;/script&gt; &lt;script type=&quot;text/javascript&quot; src=&quot;https://code.highcharts.com/6/highcharts-more.js&quot;&gt;&lt;/script&gt; &lt;script type=&quot;text/javascript&quot; src=&quot;https://code.highcharts.com/6/modules/heatmap.js&quot;&gt;&lt;/script&gt; &lt;script type=&quot;text/javascript&quot; src=&quot;https://code.highcharts.com/6/modules/exporting.js&quot;&gt;&lt;/script&gt; &lt;/head&gt; &lt;body style=&quot;margin:0;padding:0&quot;&gt; &lt;div id=&quot;container&quot; style=&quot;&quot;&gt;Loading....&lt;/div&gt; &lt;script&gt; $(function(){ Highcharts.setOptions({&quot;lang&quot;: {}, &quot;global&quot;: {}}); var option = {&quot;loading&quot;: {}, &quot;subtitle&quot;: {}, &quot;xAxis&quot;: {&quot;type&quot;: &quot;datetime&quot;}, &quot;title&quot;: {&quot;text&quot;: &quot;Precio BigMac USA&quot;}, &quot;series&quot;: {}, &quot;labels&quot;: {}, &quot;yAxis&quot;: {&quot;title&quot;: {&quot;text&quot;: &quot;Precio (USD)&quot;}}, &quot;chart&quot;: {&quot;renderTo&quot;: &quot;container&quot;}, &quot;tooltip&quot;: {&quot;xDateFormat&quot;: &quot;%m/%Y&quot;}, &quot;plotOptions&quot;: {}, &quot;credits&quot;: {&quot;enabled&quot;: false}, &quot;colors&quot;: {}, &quot;pane&quot;: {}, &quot;exporting&quot;: {}, &quot;drilldown&quot;: {}, &quot;navigation&quot;: {}, &quot;legend&quot;: {&quot;enabled&quot;: false}}; var chart = new Highcharts.Chart(option); var data = [{&quot;name&quot;: &quot;Precio (USD)&quot;, &quot;marker&quot;: {&quot;enabled&quot;: false}, &quot;type&quot;: &quot;area&quot;, &quot;data&quot;: [[954558000000.0, 2.51], [986094000000.0, 2.54], [1017630000000.0, 2.49], [1049166000000.0, 2.71], [1083380400000.0, 2.9], [1117594800000.0, 3.06], [1136084400000.0, 3.15], [1146452400000.0, 3.1], [1167620400000.0, 3.22], [1180666800000.0, 3.41], [1212289200000.0, 3.57], [1246417200000.0, 3.57], [1262314800000.0, 3.58], [1277953200000.0, 3.733333333], [1309489200000.0, 4.065], [1325386800000.0, 4.19722], [1341111600000.0, 4.3275], [1357009200000.0, 4.367395833], [1372647600000.0, 4.556666667], [1388545200000.0, 4.624166667], [1404183600000.0, 4.795], [1420081200000.0, 4.79], [1435719600000.0, 4.79], [1451617200000.0, 4.93], [1467342000000.0, 5.04], [1483239600000.0, 5.06], [1498878000000.0, 5.3], [1514775600000.0, 5.28], [1530414000000.0, 5.51], [1546311600000.0, 5.58]]}]; var dataLen = data.length; for (var ix = 0; ix &lt; dataLen; ix++) { chart.addSeries(data[ix]); } }); &lt;/script&gt; &lt;/body&gt; &lt;/html&gt;\" height=520 width=820></iframe>"
      ],
      "text/plain": [
       "<highcharts.highcharts.highcharts.Highchart at 0x7f940635d410>"
      ]
     },
     "execution_count": 115,
     "metadata": {},
     "output_type": "execute_result"
    }
   ],
   "source": [
    "chart = Highchart()\n",
    "\n",
    "chart.set_options('chart', {})\n",
    "\n",
    "options = {\n",
    "    'title': {\n",
    "        'text': 'Precio BigMac USA'\n",
    "    },\n",
    "    'xAxis': {\n",
    "        'type': 'datetime'\n",
    "    },\n",
    "    'yAxis': {\n",
    "        'title': {\n",
    "            'text': 'Precio (USD)'\n",
    "        }\n",
    "    },\n",
    "    'legend': {\n",
    "        'enabled': False\n",
    "    },\n",
    "    'tooltip': {\n",
    "        'xDateFormat': '%m/%Y'\n",
    "    }\n",
    "}\n",
    "\n",
    "chart.set_dict_options(options)\n",
    "\n",
    "chart.add_data_set(data_us_list, 'area', 'Precio (USD)', marker={'enabled': False}) \n",
    "\n",
    "chart"
   ]
  },
  {
   "cell_type": "code",
   "execution_count": null,
   "metadata": {},
   "outputs": [],
   "source": []
  }
 ],
 "metadata": {
  "kernelspec": {
   "display_name": "Python 2",
   "language": "python",
   "name": "python2"
  },
  "language_info": {
   "codemirror_mode": {
    "name": "ipython",
    "version": 2
   },
   "file_extension": ".py",
   "mimetype": "text/x-python",
   "name": "python",
   "nbconvert_exporter": "python",
   "pygments_lexer": "ipython2",
   "version": "2.7.15rc1"
  }
 },
 "nbformat": 4,
 "nbformat_minor": 2
}
